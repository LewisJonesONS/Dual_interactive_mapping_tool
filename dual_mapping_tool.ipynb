{
 "cells": [
  {
   "cell_type": "code",
   "execution_count": null,
   "id": "2c0744f2-3309-4ec3-9c7c-b56d376eb315",
   "metadata": {},
   "outputs": [],
   "source": [
    "# imports python packages\n",
    "import pandas as pd\n",
    "import geopandas as gpd\n",
    "import folium\n",
    "import folium.plugins\n",
    "import webbrowser\n"
   ]
  },
  {
   "cell_type": "code",
   "execution_count": null,
   "id": "e42915a5-8616-4aba-ab0c-91cfc1c736b2",
   "metadata": {},
   "outputs": [],
   "source": [
    "#imports datasets. You will need to enter the filename for your datasets in the brackets eg gpd.read_file('your_file.csv')\n",
    "\n",
    "#import geopackage file containing national geographic database (ngd) geospatial data of specified amenity locations in UK\n",
    "ngd = gpd.read_file('ngd_pubs.gpkg', layer='lus_fts_site')\n",
    "\n",
    "#import csv file containing address base (ab) geospatial data of specified amenity locations in UK\n",
    "ab = gpd.read_file('address_base_pubs.csv')\n",
    "\n",
    "# sets titles for each map - amend if required\n",
    "map_title1 = \"OS National Geographic Database\"\n",
    "map_title2 = \"OS Address Base\"\n"
   ]
  },
  {
   "cell_type": "code",
   "execution_count": null,
   "id": "b992abdb-f4a3-4ed8-9b3f-2f3fa0c28811",
   "metadata": {},
   "outputs": [],
   "source": [
    "# returns first 3 rows of the dataframe\n",
    "ngd.head(3)"
   ]
  },
  {
   "cell_type": "code",
   "execution_count": null,
   "id": "154ab79b-4e0d-49bc-85b9-f86ca8617cfd",
   "metadata": {},
   "outputs": [],
   "source": [
    "# Adds centroid column\n",
    "ngd['centroid'] = ngd.centroid\n",
    "\n",
    "# Sets centroid column as the active geometry\n",
    "ngd = ngd.set_geometry('centroid')\n",
    "                      "
   ]
  },
  {
   "cell_type": "code",
   "execution_count": null,
   "id": "7ed2bbdb-8f01-421e-8e31-b6cefb9bbc30",
   "metadata": {},
   "outputs": [],
   "source": [
    "# returns first 3 rows of the dataframe\n",
    "ab.head(3)"
   ]
  },
  {
   "cell_type": "code",
   "execution_count": null,
   "id": "41f3c5ce-0eea-4a9d-a28c-a31d23a0520c",
   "metadata": {},
   "outputs": [],
   "source": [
    "# creates a geometry column from x and y coordinates\n",
    "ab  = gpd.GeoDataFrame(ab,\n",
    "                              geometry=gpd.points_from_xy(ab.X_COORDINATE, \n",
    "                                                          ab.Y_COORDINATE), crs = 'EPSG:27700')\n"
   ]
  },
  {
   "cell_type": "code",
   "execution_count": null,
   "id": "b4467ed8-4d22-4376-85e0-41e06fae505f",
   "metadata": {},
   "outputs": [],
   "source": [
    "# returns first 3 rows of the dataframe\n",
    "ab.head(3)"
   ]
  },
  {
   "cell_type": "code",
   "execution_count": null,
   "id": "0e6b2ae0-46fd-4fd4-9525-01723fab9c83",
   "metadata": {},
   "outputs": [],
   "source": [
    "# creates individual maps of ngd and ab\n",
    "# ngd.explore()\n",
    "# ab.explore()\n",
    "\n",
    "# creates a single map with ngd and ab\n",
    "# m = ngd.explore(color='blue')\n",
    "# ab.explore(m=m, color='red')\n",
    "\n",
    "# gdf.explore() is a method of a geopandas geodataframe that plots an interactive map\n",
    "# m: is a parameter for an existing map instance on which to draw the plot"
   ]
  },
  {
   "cell_type": "code",
   "execution_count": null,
   "id": "6030b4a1-1cd5-45e7-b76c-970ab950cd9d",
   "metadata": {
    "scrolled": true
   },
   "outputs": [],
   "source": [
    "# creates a dual map - location = latitude, longitude (London, UK in this instance).\n",
    "dual_map = folium.plugins.DualMap(location=[51.5074, -0.1278], zoom_start=10)"
   ]
  },
  {
   "cell_type": "code",
   "execution_count": null,
   "id": "6dc49872-850a-46c3-9225-cb8b321c1904",
   "metadata": {},
   "outputs": [],
   "source": [
    "# adds a title to each map - map_title1 & map_title2 were set in cell 2\n",
    "\n",
    "title_html = f'''\n",
    "    <div style=\"position:absolute;z-index:100000;left:5vw;top:20px;font-size:36px;font-weight:bold;color:black;\">\n",
    "        {map_title1}\n",
    "    </div>\n",
    "    <div style=\"position:absolute;z-index:100000;left:55vw;top:20px;font-size:36px;font-weight:bold;color:black;\">\n",
    "        {map_title2}\n",
    "    </div>\n",
    "    '''\n",
    "dual_map.get_root().html.add_child(folium.Element(title_html))\n",
    "dual_map.save('dual_map.html')\n",
    "\n"
   ]
  },
  {
   "cell_type": "code",
   "execution_count": null,
   "id": "100a1ff4-358a-40cf-9bdd-9babb7d163fc",
   "metadata": {},
   "outputs": [],
   "source": [
    "# Access the two submaps with attributes m1 and m2. You can add objects to each map specifically\n",
    "# Assigns ngd amenity to the left hand map (m1), and ab amenity to the right hand map (m2).\n",
    "\n",
    "ngd.explore(m=dual_map.m1, color='blue')\n",
    "\n",
    "ab.explore(m=dual_map.m2, color='red')\n",
    "\n",
    "dual_map"
   ]
  },
  {
   "cell_type": "code",
   "execution_count": null,
   "id": "0da23504-7baa-4887-8971-c9fcb331ffcc",
   "metadata": {},
   "outputs": [],
   "source": [
    "# saves the map as an html file\n",
    "dual_map.save('dual_map.html')"
   ]
  },
  {
   "cell_type": "code",
   "execution_count": null,
   "id": "7d3a78b7-c840-447f-9bdf-90196a236740",
   "metadata": {},
   "outputs": [],
   "source": [
    "# opens the html file in the default browser\n",
    "webbrowser.open('dual_map.html')"
   ]
  },
  {
   "cell_type": "code",
   "execution_count": null,
   "id": "3031d79f-d444-451e-a0b2-9cc7c9b9f05c",
   "metadata": {},
   "outputs": [],
   "source": []
  }
 ],
 "metadata": {
  "kernelspec": {
   "display_name": "geopy312",
   "language": "python",
   "name": "geopy312"
  },
  "language_info": {
   "codemirror_mode": {
    "name": "ipython",
    "version": 3
   },
   "file_extension": ".py",
   "mimetype": "text/x-python",
   "name": "python",
   "nbconvert_exporter": "python",
   "pygments_lexer": "ipython3",
   "version": "3.12.5"
  }
 },
 "nbformat": 4,
 "nbformat_minor": 5
}
